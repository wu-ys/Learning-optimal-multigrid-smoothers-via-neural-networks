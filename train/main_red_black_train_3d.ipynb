{
 "cells": [
  {
   "cell_type": "markdown",
   "metadata": {
    "ExecuteTime": {
     "end_time": "2018-12-18T11:12:37.978677Z",
     "start_time": "2018-12-18T11:12:37.976016Z"
    },
    "id": "ZnOGazI_k0Nt"
   },
   "source": [
    "# Imports"
   ]
  },
  {
   "cell_type": "code",
   "execution_count": 20,
   "metadata": {
    "ExecuteTime": {
     "end_time": "2018-12-30T11:10:53.160742Z",
     "start_time": "2018-12-30T11:10:51.404495Z"
    },
    "autoscroll": false,
    "colab": {
     "base_uri": "https://localhost:8080/"
    },
    "ein.hycell": false,
    "ein.tags": "worksheet-0",
    "executionInfo": {
     "elapsed": 4094,
     "status": "ok",
     "timestamp": 1648066160371,
     "user": {
      "displayName": "Ru Huang",
      "photoUrl": "https://lh3.googleusercontent.com/a/default-user=s64",
      "userId": "03213243881794485520"
     },
     "user_tz": 240
    },
    "id": "Gd1wm_4gk0Nw",
    "outputId": "a05a8174-4cd0-476b-b379-ceec8487fb87"
   },
   "outputs": [],
   "source": [
    "import os\n",
    "from importlib import reload\n",
    "from itertools import product\n",
    "import time\n",
    "import numpy as np\n",
    "import matplotlib.pyplot as plt\n",
    "import torch\n",
    "import torch.nn as nn\n",
    "import torch.nn.functional as F\n",
    "import matplotlib.pyplot as plt\n",
    "from problems import *\n",
    "from model_train import *\n",
    "import scipy as sp\n",
    "import pyamg\n",
    "device = 'cuda'"
   ]
  },
  {
   "cell_type": "markdown",
   "metadata": {
    "id": "-LwSUjikk0Nx"
   },
   "source": [
    "# Setup"
   ]
  },
  {
   "cell_type": "code",
   "execution_count": 21,
   "metadata": {
    "executionInfo": {
     "elapsed": 111,
     "status": "ok",
     "timestamp": 1648066180732,
     "user": {
      "displayName": "Ru Huang",
      "photoUrl": "https://lh3.googleusercontent.com/a/default-user=s64",
      "userId": "03213243881794485520"
     },
     "user_tz": 240
    },
    "id": "A_32VNu-k0Nz"
   },
   "outputs": [],
   "source": [
    "res1 = np.zeros((3,3,3))\n",
    "res1[0,0,1] = 1/16\n",
    "res1[2,0,1] = 1/16\n",
    "res1[0,2,1] = 1/16\n",
    "res1[2,2,1] = 1/16\n",
    "res1[1,0,0] = 1/16\n",
    "res1[1,0,2] = 1/16\n",
    "res1[1,2,0] = 1/16\n",
    "res1[1,2,2] = 1/16\n",
    "res1[0,1,0] = 1/16\n",
    "res1[2,1,0] = 1/16\n",
    "res1[0,1,2] = 1/16\n",
    "res1[2,1,2] = 1/16\n",
    "res1[1,1,1] = 1/4\n",
    "\n",
    "res2 = np.zeros((3,3,3))\n",
    "res2[0,1,1] = 1/12\n",
    "res2[1,0,1] = 1/12\n",
    "res2[1,1,0] = 1/12\n",
    "res2[2,1,1] = 1/12\n",
    "res2[1,2,1] = 1/12\n",
    "res2[1,1,2] = 1/12\n",
    "res2[1,1,1] = 1/4\n",
    "res2[0,0,0] = 1/32\n",
    "res2[0,0,2] = 1/32\n",
    "res2[0,2,0] = 1/32\n",
    "res2[2,0,0] = 1/32\n",
    "res2[2,2,0] = 1/32\n",
    "res2[0,2,2] = 1/32\n",
    "res2[2,0,2] = 1/32\n",
    "res2[2,2,2] = 1/32"
   ]
  },
  {
   "cell_type": "code",
   "execution_count": 22,
   "metadata": {
    "executionInfo": {
     "elapsed": 176,
     "status": "ok",
     "timestamp": 1648066181284,
     "user": {
      "displayName": "Ru Huang",
      "photoUrl": "https://lh3.googleusercontent.com/a/default-user=s64",
      "userId": "03213243881794485520"
     },
     "user_tz": 240
    },
    "id": "znD93Fttk0N0"
   },
   "outputs": [],
   "source": [
    "def map_3_to_1(grid_size=8):\n",
    "    # maps 3D coordinates to the corresponding 1D coordinate in the matrix.\n",
    "    k = np.zeros((grid_size, grid_size, 3, 3))\n",
    "    M = np.reshape(np.arange(grid_size ** 3), (grid_size, grid_size, grid_size))\n",
    "    M = np.concatenate([M, M], 0)\n",
    "    M = np.concatenate([M, M], 1)\n",
    "    for i in range(3):\n",
    "        I = (i - 1) % grid_size\n",
    "        for j in range(3):\n",
    "            J = (j - 1) % grid_size\n",
    "            k[:, :, i, j] = M[I:I + grid_size, J:J + grid_size]\n",
    "    return k\n",
    "def get_p_matrix_indices_one(grid_size):\n",
    "    K = map_3_to_1(grid_size=grid_size)\n",
    "    indices = []\n",
    "    half_size = grid_size // 2\n",
    "    for ic in range(half_size):\n",
    "        i = 2 * ic + 1\n",
    "        for jc in range(half_size):\n",
    "            j = 2 * jc + 1\n",
    "            for kc in range(half_size):\n",
    "                k = 2 * kc + 1\n",
    "                J = int(half_size * (half_size * kc + jc) + ic)\n",
    "                for p in range(3):\n",
    "                    for q in range(3):\n",
    "                        for r in range(3):\n",
    "                            I = int(K[i, j, k, p, q, r])\n",
    "                            indices.append([I, J])\n",
    "\n",
    "    return np.array(indices)\n",
    "\n",
    "\n",
    "def compute_p2(P_stencil, grid_size):\n",
    "    indexes = get_p_matrix_indices_one(grid_size)\n",
    "    P = csr_matrix(arg1=(P_stencil.reshape(-1), (indexes[:, 1], indexes[:, 0])),\n",
    "                   shape=((grid_size//2) ** 2, (grid_size) ** 2))\n",
    "\n",
    "    return P\n",
    "def prolongation_fn(grid_size):\n",
    "    res_stencil = np.double(np.zeros((3,3)))\n",
    "    k=16\n",
    "    res_stencil[0,0] = 1/k\n",
    "    res_stencil[0,1] = 2/k\n",
    "    res_stencil[0,2] = 1/k\n",
    "    res_stencil[1,0] = 2/k\n",
    "    res_stencil[1,1] = 4/k\n",
    "    res_stencil[1,2] = 2/k\n",
    "    res_stencil[2,0] = 1/k\n",
    "    res_stencil[2,1] = 2/k\n",
    "    res_stencil[2,2] = 1/k\n",
    "    P_stencils= np.zeros((grid_size//2,grid_size//2,3,3))\n",
    "    for i in range(grid_size//2):\n",
    "        for j in range(grid_size//2):\n",
    "            P_stencils[i,j,:,:]=res_stencil\n",
    "    return compute_p2(P_stencils, grid_size).astype(np.double)  # imaginary part should be zero\n",
    "def rotate_idx(size):\n",
    "    X = []\n",
    "    Y = []\n",
    "    for i in range(size):\n",
    "        for j in range(size):\n",
    "            if (i+j)%2==0:\n",
    "                X.append(i)\n",
    "                Y.append(j)\n",
    "    new_X = []\n",
    "    new_Y = []\n",
    "    for k in range(len(X)):\n",
    "        i = X[k]\n",
    "        j = Y[k]\n",
    "        new_j = (j-i)//2+size//2\n",
    "        new_i = (i+j)//2\n",
    "        new_X.append(new_i)\n",
    "        new_Y.append(new_j)\n",
    "\n",
    "#     B[new_X,new_Y] = A[X,Y]\n",
    "    return new_X,new_Y,X,Y"
   ]
  },
  {
   "cell_type": "code",
   "execution_count": 37,
   "metadata": {
    "ExecuteTime": {
     "end_time": "2018-12-30T11:11:03.135930Z",
     "start_time": "2018-12-30T11:10:55.287969Z"
    },
    "autoscroll": false,
    "colab": {
     "base_uri": "https://localhost:8080/"
    },
    "ein.hycell": false,
    "ein.tags": "worksheet-0",
    "executionInfo": {
     "elapsed": 123,
     "status": "ok",
     "timestamp": 1648066182004,
     "user": {
      "displayName": "Ru Huang",
      "photoUrl": "https://lh3.googleusercontent.com/a/default-user=s64",
      "userId": "03213243881794485520"
     },
     "user_tz": 240
    },
    "id": "Xg3BPX5rk0N1",
    "outputId": "ef00ae9d-2786-4bf7-ed9a-45cd757ef9d0"
   },
   "outputs": [
    {
     "name": "stdout",
     "output_type": "stream",
     "text": [
      "torch.Size([16777216])\n",
      "torch.Size([16777216, 16777216])\n"
     ]
    },
    {
     "ename": "",
     "evalue": "",
     "output_type": "error",
     "traceback": [
      "\u001b[1;31m在当前单元格或上一个单元格中执行代码时 Kernel 崩溃。\n",
      "\u001b[1;31m请查看单元格中的代码，以确定故障的可能原因。\n",
      "\u001b[1;31m单击<a href='https://aka.ms/vscodeJupyterKernelCrash'>此处</a>了解详细信息。\n",
      "\u001b[1;31m有关更多详细信息，请查看 Jupyter <a href='command:jupyter.viewOutput'>log</a>。"
     ]
    }
   ],
   "source": [
    "n = 256\n",
    "A = torch.load(\"/cephfs/shared/crh_dataset/svp_4sources/A_12.pt\").double().to(device)\n",
    "f = torch.load(\"/cephfs/shared/crh_dataset/svp_4sources/b_12.pt\").double().to(device).reshape(-1)\n",
    "\n",
    "mxl = 5\n",
    "levels = []\n",
    "print(f.shape)\n",
    "def coo_to_tensor(coo):\n",
    "    values = coo.data\n",
    "    indices = np.vstack((coo.row, coo.col))\n",
    "    i = torch.LongTensor(indices)\n",
    "    v = torch.DoubleTensor(values)\n",
    "    shape = coo.shape\n",
    "    return torch.sparse.DoubleTensor(i, v, torch.Size(shape)).to(device)\n",
    "\n",
    "initial_u = torch.ones(n*n*n,1, device=device).double()\n",
    "for i in range(mxl):\n",
    "    level={}\n",
    "    level['A'] = A.to_sparse_coo()\n",
    "    A_coo = A.to_sparse_coo()\n",
    "    rows, cols = A_coo.indices()\n",
    "    data = A_coo.values()\n",
    "    mask = (rows == cols)\n",
    "    diag_rows = rows[mask]\n",
    "    diag_data = data[mask]\n",
    "    D = torch.sparse_coo_tensor(indices = torch.stack([diag_rows, diag_rows],dim=0), values = diag_data, size=A_coo.shape, dtype=A.dtype, device = A.device)\n",
    "    level['D'] = D\n",
    "    level['N'] = n\n",
    "    level['l'] = A.shape[0]\n",
    "    print(A.shape)\n",
    "    if i%2==0:\n",
    "        R = pyamg.gallery.stencil_grid(res1,(n,n,n)).tocsr()\n",
    "        R = R[0:n*n*n:2,:]\n",
    "        R = coo_to_tensor(R.tocoo())\n",
    "#         R = R[:,0:n*n//2+1]\n",
    "        P = R.T*2\n",
    "        level['square'] = True\n",
    "    else:\n",
    "        R = pyamg.gallery.stencil_grid(res2,(n,n,n)).tocsr()\n",
    "        #R = pyamg.gallery.stencil_grid(res2,(n,n)).toarray()\n",
    "        R = R[0:n*n*n:2,:]\n",
    "        R = R[:,0:n*n*n:2]\n",
    "        R = coo_to_tensor(R.tocoo())\n",
    "        level['rotate_idx'] = rotate_idx(n)\n",
    "        idx = []\n",
    "        for j in range(n//2+1):\n",
    "            idx = idx+list(range(j*n,j*n+n//2+1))\n",
    "        R = R[idx,:]\n",
    "        P=R.T*2\n",
    "        n=n//2+1\n",
    "        level['square'] = False\n",
    "\n",
    "\n",
    "    A = torch.sparse.mm(A_coo.cpu(), P.cpu())\n",
    "    Anew = torch.sparse.mm(R.cpu(), A.cpu())\n",
    "\n",
    "    A = Anew.to(device)\n",
    "\n",
    "    print(A._nnz)\n",
    "\n",
    "    level['R']=R.to(device)\n",
    "    level['P']=P.to(device)\n",
    "    levels = levels+[level]\n"
   ]
  },
  {
   "cell_type": "code",
   "execution_count": null,
   "metadata": {
    "colab": {
     "base_uri": "https://localhost:8080/",
     "height": 484
    },
    "executionInfo": {
     "elapsed": 27000,
     "status": "error",
     "timestamp": 1648066209945,
     "user": {
      "displayName": "Ru Huang",
      "photoUrl": "https://lh3.googleusercontent.com/a/default-user=s64",
      "userId": "03213243881794485520"
     },
     "user_tz": 240
    },
    "id": "QIMust2Hk0N2",
    "outputId": "3d180cd1-2c5a-44cf-b801-958423bd1a0d",
    "scrolled": true
   },
   "outputs": [
    {
     "name": "stdout",
     "output_type": "stream",
     "text": [
      "Epoch: 0 total loss 127.47116088867188\n",
      "3 total loss: 113.32662963867188\n",
      "Epoch: 0 total loss 272.5091857910156\n",
      "7 total loss: 210.74740600585938\n",
      "Epoch: 0 total loss 383.26953125\n",
      "7 total loss: 280.8701477050781\n",
      "Epoch: 0 total loss 601.4959106445312\n",
      "3 total loss: 512.7528076171875\n"
     ]
    },
    {
     "data": {
      "text/plain": [
       "<model.alphaCNN at 0x2058dc0f700>"
      ]
     },
     "execution_count": 5,
     "metadata": {},
     "output_type": "execute_result"
    }
   ],
   "source": [
    "nb_problem_instances = 50\n",
    "optimizer = 'Adam'\n",
    "learning_rate = 1e-3\n",
    "nb_layers = 5\n",
    "problem_instances1 = [Problem(k=k,levels=levels[3:5],mxl=2) for k in np.random.randint(1,3,nb_problem_instances)]\n",
    "model1=alphaCNN(\n",
    "                 batch_size=10,\n",
    "                 learning_rate=1e-3,\n",
    "                 max_epochs=4,\n",
    "                 nb_layers=nb_layers,\n",
    "                 tol=1e-6,\n",
    "                 stable_count=10,\n",
    "                 optimizer=optimizer,\n",
    "                 random_seed=9,initial = 5,kernel_size=3,initial_kernel=(1/s[1,1]))\n",
    "model1.fit(problem_instances1)\n",
    "problem_instances2 = [Problem(k=k,levels=levels[2:5],mxl=3,net_trained=[model1.net]) for k in np.random.randint(1,5,nb_problem_instances)]\n",
    "model2=alphaCNN(\n",
    "                 batch_size=10,\n",
    "                 learning_rate=1e-4,\n",
    "                 max_epochs=8,\n",
    "                 nb_layers=nb_layers,\n",
    "                 tol=1e-6,\n",
    "                 stable_count=10,\n",
    "                 optimizer=optimizer,\n",
    "                 random_seed=9,initial = 5,kernel_size=3,initial_kernel=0.01)\n",
    "model2.fit(problem_instances2)\n",
    "problem_instances3 = [Problem(k=k,levels=levels[1:5],mxl=4,net_trained=[model2.net,model1.net]) for k in np.random.randint(1,7,nb_problem_instances)]\n",
    "model3=alphaCNN(\n",
    "                 batch_size=10,\n",
    "                 learning_rate=1e-4,\n",
    "                 max_epochs=8,\n",
    "                 nb_layers=nb_layers,\n",
    "                 tol=1e-6,\n",
    "                 stable_count=10,\n",
    "                 optimizer=optimizer,\n",
    "                 random_seed=9,initial = 5,kernel_size=3,initial_kernel=0.001)\n",
    "model3.fit(problem_instances3)\n",
    "problem_instances4 = [Problem(k=k,levels=levels[0:5],mxl=5,net_trained=[model3.net,model2.net,model1.net]) for k in np.random.randint(1,10,nb_problem_instances)]\n",
    "model4=alphaCNN(\n",
    "                 batch_size=10,\n",
    "                 learning_rate=1e-4,\n",
    "                 max_epochs=4,\n",
    "                 nb_layers=nb_layers,\n",
    "                 tol=1e-6,\n",
    "                 stable_count=10,\n",
    "                 optimizer=optimizer,\n",
    "                 random_seed=9,initial = 5,kernel_size=3,initial_kernel=0.001)\n",
    "model4.fit(problem_instances4)"
   ]
  },
  {
   "cell_type": "code",
   "execution_count": null,
   "metadata": {
    "executionInfo": {
     "elapsed": 21,
     "status": "ok",
     "timestamp": 1648064803667,
     "user": {
      "displayName": "Ru Huang",
      "photoUrl": "https://lh3.googleusercontent.com/a/default-user=s64",
      "userId": "03213243881794485520"
     },
     "user_tz": 240
    },
    "id": "0RA4jCxwtqJd"
   },
   "outputs": [],
   "source": []
  }
 ],
 "metadata": {
  "colab": {
   "collapsed_sections": [],
   "name": "main_red_black.ipynb",
   "provenance": []
  },
  "environment": {
   "name": "pytorch-gpu.1-4.m58",
   "type": "gcloud",
   "uri": "gcr.io/deeplearning-platform-release/pytorch-gpu.1-4:m58"
  },
  "hide_input": false,
  "kernelspec": {
   "display_name": "pylardos",
   "language": "python",
   "name": "python3"
  },
  "language_info": {
   "codemirror_mode": {
    "name": "ipython",
    "version": 3
   },
   "file_extension": ".py",
   "mimetype": "text/x-python",
   "name": "python",
   "nbconvert_exporter": "python",
   "pygments_lexer": "ipython3",
   "version": "3.10.16"
  },
  "name": "main.ipynb",
  "toc": {
   "base_numbering": 1,
   "nav_menu": {
    "height": "67.7px",
    "width": "252px"
   },
   "number_sections": true,
   "sideBar": false,
   "skip_h1_title": false,
   "title_cell": "Table of Contents",
   "title_sidebar": "Contents",
   "toc_cell": true,
   "toc_position": {
    "height": "584.933px",
    "left": "1px",
    "right": "2569px",
    "top": "111px",
    "width": "600px"
   },
   "toc_section_display": false,
   "toc_window_display": false
  }
 },
 "nbformat": 4,
 "nbformat_minor": 1
}
